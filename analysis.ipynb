{
 "cells": [
  {
   "cell_type": "code",
   "execution_count": 27,
   "metadata": {
    "collapsed": true
   },
   "outputs": [],
   "source": [
    "import glob\n",
    "import os\n",
    "import json\n",
    "\n",
    "import numpy as np\n",
    "import pandas as pd\n",
    "import matplotlib.pyplot as plt\n",
    "\n",
    "plt.style.use('classic')"
   ]
  },
  {
   "cell_type": "code",
   "execution_count": 28,
   "outputs": [],
   "source": [
    "parts = glob.glob('./results/experiment-join/*')"
   ],
   "metadata": {
    "collapsed": false,
    "pycharm": {
     "name": "#%%\n"
    }
   }
  },
  {
   "cell_type": "code",
   "execution_count": 29,
   "outputs": [],
   "source": [
    "files = []\n",
    "for part in parts:\n",
    "    sub_parts = glob.glob(os.path.join(part, 'part-*'))\n",
    "    for sub in sub_parts:\n",
    "        files.append(sub)"
   ],
   "metadata": {
    "collapsed": false,
    "pycharm": {
     "name": "#%%\n"
    }
   }
  },
  {
   "cell_type": "code",
   "execution_count": 30,
   "outputs": [],
   "source": [
    "files = np.array(files).flatten()"
   ],
   "metadata": {
    "collapsed": false,
    "pycharm": {
     "name": "#%%\n"
    }
   }
  },
  {
   "cell_type": "code",
   "execution_count": 31,
   "outputs": [
    {
     "name": "stdout",
     "output_type": "stream",
     "text": [
      "['./results/experiment-join/result-1633636056000/part-00001'\n",
      " './results/experiment-join/result-1633636056000/part-00000'\n",
      " './results/experiment-join/result-1633636116000/part-00001'\n",
      " './results/experiment-join/result-1633636116000/part-00000'\n",
      " './results/experiment-join/result-1633636396000/part-00001']\n"
     ]
    }
   ],
   "source": [
    "print(files[:5])"
   ],
   "metadata": {
    "collapsed": false,
    "pycharm": {
     "name": "#%%\n"
    }
   }
  },
  {
   "cell_type": "code",
   "execution_count": 32,
   "outputs": [],
   "source": [
    "data = []\n",
    "for file in files:\n",
    "    with open(file, 'r') as f:\n",
    "        lines = f.readlines()\n",
    "        for line in lines:\n",
    "            point = json.loads(line.replace(\"'\", '\"'))\n",
    "            data.append(point)"
   ],
   "metadata": {
    "collapsed": false,
    "pycharm": {
     "name": "#%%\n"
    }
   }
  },
  {
   "cell_type": "code",
   "execution_count": 33,
   "outputs": [
    {
     "name": "stdout",
     "output_type": "stream",
     "text": [
      "[{'userID': 0, 'gemPackID:': 1, 'p.time': 1633635644.8564308, 'a.time': 1633635644.8679006, 'time': 1633636056.264837, 'latency': 411.3969373703003}, {'userID': 0, 'gemPackID:': 1, 'p.time': 1633635644.8908288, 'a.time': 1633635644.8679006, 'time': 1633636056.2648942, 'latency': 411.37406611442566}, {'userID': 4, 'gemPackID:': 1, 'p.time': 1633635644.7443123, 'a.time': 1633635645.0393214, 'time': 1633636116.2599754, 'latency': 471.220654964447}, {'userID': 1, 'gemPackID:': 1, 'p.time': 1633635644.9362288, 'a.time': 1633635644.9563367, 'time': 1633636240.273036, 'latency': 595.3166997432709}, {'userID': 3, 'gemPackID:': 4, 'p.time': 1633635644.7736647, 'a.time': 1633635644.857405, 'time': 1633635736.3015704, 'latency': 91.4441659450531}]\n"
     ]
    }
   ],
   "source": [
    "print(data[:5])"
   ],
   "metadata": {
    "collapsed": false,
    "pycharm": {
     "name": "#%%\n"
    }
   }
  },
  {
   "cell_type": "code",
   "execution_count": 34,
   "outputs": [],
   "source": [
    "df = pd.DataFrame(data)"
   ],
   "metadata": {
    "collapsed": false,
    "pycharm": {
     "name": "#%%\n"
    }
   }
  },
  {
   "cell_type": "code",
   "execution_count": 35,
   "outputs": [],
   "source": [
    "df['t'] = df['time'] - df['time'].min()"
   ],
   "metadata": {
    "collapsed": false,
    "pycharm": {
     "name": "#%%\n"
    }
   }
  },
  {
   "cell_type": "code",
   "execution_count": 36,
   "outputs": [],
   "source": [
    "df = df.sort_values('t')"
   ],
   "metadata": {
    "collapsed": false,
    "pycharm": {
     "name": "#%%\n"
    }
   }
  },
  {
   "cell_type": "code",
   "execution_count": 37,
   "outputs": [
    {
     "name": "stdout",
     "output_type": "stream",
     "text": [
      "        userID  gemPackID:        p.time        a.time          time  \\\n",
      "749606       1           0  1.633636e+09  1.633636e+09  1.633636e+09   \n",
      "749607       1           0  1.633636e+09  1.633636e+09  1.633636e+09   \n",
      "749608       1           0  1.633636e+09  1.633636e+09  1.633636e+09   \n",
      "749609       1           0  1.633636e+09  1.633636e+09  1.633636e+09   \n",
      "749610       1           0  1.633636e+09  1.633636e+09  1.633636e+09   \n",
      "749611       1           0  1.633636e+09  1.633636e+09  1.633636e+09   \n",
      "749612       1           0  1.633636e+09  1.633636e+09  1.633636e+09   \n",
      "749613       1           0  1.633636e+09  1.633636e+09  1.633636e+09   \n",
      "749614       1           0  1.633636e+09  1.633636e+09  1.633636e+09   \n",
      "749615       1           0  1.633636e+09  1.633636e+09  1.633636e+09   \n",
      "\n",
      "         latency         t  \n",
      "749606  6.529209  0.000000  \n",
      "749607  6.537690  0.000042  \n",
      "749608  6.530970  0.000047  \n",
      "749609  6.514701  0.000080  \n",
      "749610  6.526182  0.000084  \n",
      "749611  6.553452  0.000088  \n",
      "749612  6.532761  0.000092  \n",
      "749613  6.558593  0.000125  \n",
      "749614  6.554988  0.000129  \n",
      "749615  6.528351  0.000133  \n"
     ]
    }
   ],
   "source": [
    "print(df.head(10))"
   ],
   "metadata": {
    "collapsed": false,
    "pycharm": {
     "name": "#%%\n"
    }
   }
  },
  {
   "cell_type": "code",
   "execution_count": 38,
   "outputs": [
    {
     "name": "stdout",
     "output_type": "stream",
     "text": [
      "         userID  gemPackID:        p.time        a.time          time  \\\n",
      "2545381       2           0  1.633636e+09  1.633636e+09  1.633637e+09   \n",
      "2545382       2           4  1.633636e+09  1.633636e+09  1.633637e+09   \n",
      "2545314       2           4  1.633636e+09  1.633636e+09  1.633637e+09   \n",
      "2545315       4           0  1.633636e+09  1.633636e+09  1.633637e+09   \n",
      "2545300       2           4  1.633636e+09  1.633636e+09  1.633637e+09   \n",
      "2545301       2           4  1.633636e+09  1.633636e+09  1.633637e+09   \n",
      "2546790       1           1  1.633636e+09  1.633636e+09  1.633637e+09   \n",
      "2546791       1           1  1.633636e+09  1.633636e+09  1.633637e+09   \n",
      "2545376       1           1  1.633636e+09  1.633636e+09  1.633637e+09   \n",
      "2545413       0           3  1.633636e+09  1.633636e+09  1.633637e+09   \n",
      "\n",
      "            latency           t  \n",
      "2545381  907.225827  901.692650  \n",
      "2545382  907.185261  901.692694  \n",
      "2545314  915.331800  909.828706  \n",
      "2545315  915.319272  909.828750  \n",
      "2545300  919.222820  913.681639  \n",
      "2545301  919.265964  913.681683  \n",
      "2546790  923.198288  917.786781  \n",
      "2546791  923.198332  917.786826  \n",
      "2545376  927.105183  921.688737  \n",
      "2545413  931.183204  925.674767  \n"
     ]
    }
   ],
   "source": [
    "print(df.tail(10))"
   ],
   "metadata": {
    "collapsed": false,
    "pycharm": {
     "name": "#%%\n"
    }
   }
  },
  {
   "cell_type": "code",
   "execution_count": 39,
   "outputs": [
    {
     "name": "stdout",
     "output_type": "stream",
     "text": [
      "             userID    gemPackID:        p.time        a.time          time  \\\n",
      "count  2.546901e+06  2.546901e+06  2.546901e+06  2.546901e+06  2.546901e+06   \n",
      "mean   2.016920e+00  2.024999e+00  1.633636e+09  1.633636e+09  1.633636e+09   \n",
      "std    1.424511e+00  1.408799e+00  1.875174e-01  1.897956e-01  6.939693e+00   \n",
      "min    0.000000e+00  0.000000e+00  1.633636e+09  1.633636e+09  1.633636e+09   \n",
      "25%    1.000000e+00  1.000000e+00  1.633636e+09  1.633636e+09  1.633636e+09   \n",
      "50%    2.000000e+00  2.000000e+00  1.633636e+09  1.633636e+09  1.633636e+09   \n",
      "75%    3.000000e+00  3.000000e+00  1.633636e+09  1.633636e+09  1.633636e+09   \n",
      "max    4.000000e+00  4.000000e+00  1.633636e+09  1.633636e+09  1.633637e+09   \n",
      "\n",
      "            latency             t  \n",
      "count  2.546901e+06  2.546901e+06  \n",
      "mean   9.419023e+00  3.174223e+00  \n",
      "std    6.933583e+00  6.939693e+00  \n",
      "min    5.796383e+00  0.000000e+00  \n",
      "25%    7.331212e+00  1.068567e+00  \n",
      "50%    8.492227e+00  2.204425e+00  \n",
      "75%    1.134392e+01  5.145972e+00  \n",
      "max    9.311832e+02  9.256748e+02  \n"
     ]
    }
   ],
   "source": [
    "print(df.describe())"
   ],
   "metadata": {
    "collapsed": false,
    "pycharm": {
     "name": "#%%\n"
    }
   }
  },
  {
   "cell_type": "code",
   "execution_count": 40,
   "outputs": [
    {
     "data": {
      "text/plain": "[<matplotlib.lines.Line2D at 0x155318eb0>]"
     },
     "execution_count": 40,
     "metadata": {},
     "output_type": "execute_result"
    },
    {
     "data": {
      "text/plain": "<Figure size 640x480 with 1 Axes>",
      "image/png": "[encoded data removed]"
     },
     "metadata": {},
     "output_type": "display_data"
    }
   ],
   "source": [
    "plt.plot(df['t'].values, df['latency'].values)"
   ],
   "metadata": {
    "collapsed": false,
    "pycharm": {
     "name": "#%%\n"
    }
   }
  },
  {
   "cell_type": "code",
   "execution_count": 41,
   "outputs": [
    {
     "name": "stdout",
     "output_type": "stream",
     "text": [
      "17828307\n",
      "749666    0.000433\n",
      "749667    0.000436\n",
      "749668    0.000440\n",
      "749669    0.000587\n",
      "749670    0.000592\n",
      "749671    0.000595\n",
      "749672    0.000598\n",
      "749673    0.000601\n",
      "749674    0.000604\n",
      "749675    0.000607\n",
      "749676    0.000611\n",
      "749677    0.000613\n",
      "749678    0.000617\n",
      "749679    0.000620\n",
      "749680    0.000623\n",
      "749681    0.000627\n",
      "749682    0.000630\n",
      "749683    0.000633\n",
      "749684    0.000636\n",
      "749685    0.000639\n",
      "749686    0.000643\n",
      "749687    0.000646\n",
      "749688    0.000649\n",
      "749689    0.000657\n",
      "749690    0.000660\n",
      "749691    0.000664\n",
      "749692    0.000667\n",
      "749693    0.000670\n",
      "749694    0.000673\n",
      "749695    0.000676\n",
      "749696    0.000679\n",
      "749697    0.000682\n",
      "749698    0.000685\n",
      "749699    0.000688\n",
      "749700    0.000691\n",
      "749701    0.000694\n",
      "749702    0.000702\n",
      "749703    0.000705\n",
      "749704    0.000709\n",
      "749705    0.000712\n",
      "Name: t, dtype: float64\n",
      "750106    6.291646\n",
      "750107    6.299112\n",
      "750108    6.132273\n",
      "750109    6.226476\n",
      "750110    6.224349\n",
      "            ...   \n",
      "3773      6.476807\n",
      "3774      6.374054\n",
      "3775      6.372888\n",
      "3776      6.417570\n",
      "3777      6.431163\n",
      "Name: latency, Length: 9500, dtype: float64\n"
     ]
    }
   ],
   "source": [
    "print(df.size)\n",
    "print(df['t'][60:100])\n",
    "print(df['latency'][500:10000])"
   ],
   "metadata": {
    "collapsed": false,
    "pycharm": {
     "name": "#%%\n"
    }
   }
  },
  {
   "cell_type": "code",
   "execution_count": 41,
   "outputs": [],
   "source": [],
   "metadata": {
    "collapsed": false,
    "pycharm": {
     "name": "#%%\n"
    }
   }
  }
 ],
 "metadata": {
  "kernelspec": {
   "display_name": "Python 3",
   "language": "python",
   "name": "python3"
  },
  "language_info": {
   "codemirror_mode": {
    "name": "ipython",
    "version": 2
   },
   "file_extension": ".py",
   "mimetype": "text/x-python",
   "name": "python",
   "nbconvert_exporter": "python",
   "pygments_lexer": "ipython2",
   "version": "2.7.6"
  }
 },
 "nbformat": 4,
 "nbformat_minor": 0
}