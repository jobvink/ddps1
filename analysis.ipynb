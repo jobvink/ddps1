{
 "cells": [
  {
   "cell_type": "code",
   "execution_count": 42,
   "metadata": {
    "collapsed": true
   },
   "outputs": [],
   "source": [
    "import glob\n",
    "import os\n",
    "import json\n",
    "\n",
    "import numpy as np\n",
    "import pandas as pd\n",
    "import matplotlib.pyplot as plt\n",
    "\n",
    "plt.style.use('classic')"
   ]
  },
  {
   "cell_type": "code",
   "execution_count": 43,
   "outputs": [],
   "source": [
    "parts = glob.glob('./results/experiment-join/*')"
   ],
   "metadata": {
    "collapsed": false,
    "pycharm": {
     "name": "#%%\n"
    }
   }
  },
  {
   "cell_type": "code",
   "execution_count": 44,
   "outputs": [],
   "source": [
    "files = []\n",
    "for part in parts:\n",
    "    sub_parts = glob.glob(os.path.join(part, 'part-*'))\n",
    "    for sub in sub_parts:\n",
    "        files.append(sub)"
   ],
   "metadata": {
    "collapsed": false,
    "pycharm": {
     "name": "#%%\n"
    }
   }
  },
  {
   "cell_type": "code",
   "execution_count": 45,
   "outputs": [],
   "source": [
    "files = np.array(files).flatten()"
   ],
   "metadata": {
    "collapsed": false,
    "pycharm": {
     "name": "#%%\n"
    }
   }
  },
  {
   "cell_type": "code",
   "execution_count": 46,
   "outputs": [
    {
     "name": "stdout",
     "output_type": "stream",
     "text": [
      "['./results/experiment-join/result-1633639228000/part-00001'\n",
      " './results/experiment-join/result-1633639228000/part-00000'\n",
      " './results/experiment-join/result-1633639368000/part-00001'\n",
      " './results/experiment-join/result-1633639368000/part-00000'\n",
      " './results/experiment-join/result-1633639412000/part-00001']\n"
     ]
    }
   ],
   "source": [
    "print(files[:5])"
   ],
   "metadata": {
    "collapsed": false,
    "pycharm": {
     "name": "#%%\n"
    }
   }
  },
  {
   "cell_type": "code",
   "execution_count": 47,
   "outputs": [],
   "source": [
    "data = []\n",
    "for file in files:\n",
    "    with open(file, 'r') as f:\n",
    "        lines = f.readlines()\n",
    "        for line in lines:\n",
    "            point = json.loads(line.replace(\"'\", '\"'))\n",
    "            data.append(point)"
   ],
   "metadata": {
    "collapsed": false,
    "pycharm": {
     "name": "#%%\n"
    }
   }
  },
  {
   "cell_type": "code",
   "execution_count": 48,
   "outputs": [
    {
     "name": "stdout",
     "output_type": "stream",
     "text": [
      "[{'userID': 2, 'gemPackID:': 4, 'p.time': 1633638944.5395591, 'a.time': 1633638947.5388033, 'time': 1633638948.2849627, 'latency': 0.7461597919464111}, {'userID': 4, 'gemPackID:': 3, 'p.time': 1633638686.5396857, 'a.time': 1633638687.5395193, 'time': 1633638690.069983, 'latency': 2.5304641723632812}, {'userID': 3, 'gemPackID:': 4, 'p.time': 1633639204.5397162, 'a.time': 1633639205.5388517, 'time': 1633639208.3166697, 'latency': 2.777818441390991}, {'userID': 4, 'gemPackID:': 4, 'p.time': 1633639207.5388565, 'a.time': 1633639207.5386999, 'time': 1633639208.3135555, 'latency': 0.7746994495391846}, {'userID': 1, 'gemPackID:': 2, 'p.time': 1633639246.539042, 'a.time': 1633639247.5386868, 'time': 1633639248.2987273, 'latency': 0.7600409984588623}]\n"
     ]
    }
   ],
   "source": [
    "print(data[:5])"
   ],
   "metadata": {
    "collapsed": false,
    "pycharm": {
     "name": "#%%\n"
    }
   }
  },
  {
   "cell_type": "code",
   "execution_count": 49,
   "outputs": [],
   "source": [
    "df = pd.DataFrame(data)"
   ],
   "metadata": {
    "collapsed": false,
    "pycharm": {
     "name": "#%%\n"
    }
   }
  },
  {
   "cell_type": "code",
   "execution_count": 50,
   "outputs": [],
   "source": [
    "df['t'] = df['time'] - df['time'].min()"
   ],
   "metadata": {
    "collapsed": false,
    "pycharm": {
     "name": "#%%\n"
    }
   }
  },
  {
   "cell_type": "code",
   "execution_count": 51,
   "outputs": [],
   "source": [
    "df = df.sort_values('t')"
   ],
   "metadata": {
    "collapsed": false,
    "pycharm": {
     "name": "#%%\n"
    }
   }
  },
  {
   "cell_type": "code",
   "execution_count": 52,
   "outputs": [
    {
     "name": "stdout",
     "output_type": "stream",
     "text": [
      "     userID  gemPackID:        p.time        a.time          time   latency  \\\n",
      "129       0           0  1.633639e+09  1.633639e+09  1.633639e+09  2.984693   \n",
      "1         4           3  1.633639e+09  1.633639e+09  1.633639e+09  2.530464   \n",
      "53        0           1  1.633639e+09  1.633639e+09  1.633639e+09  1.155901   \n",
      "54        2           0  1.633639e+09  1.633639e+09  1.633639e+09  1.156096   \n",
      "55        2           4  1.633639e+09  1.633639e+09  1.633639e+09  1.155697   \n",
      "56        2           4  1.633639e+09  1.633639e+09  1.633639e+09  1.156872   \n",
      "18        2           2  1.633639e+09  1.633639e+09  1.633639e+09  2.859577   \n",
      "16        4           1  1.633639e+09  1.633639e+09  1.633639e+09  0.927040   \n",
      "17        4           1  1.633639e+09  1.633639e+09  1.633639e+09  1.927083   \n",
      "105       1           3  1.633639e+09  1.633639e+09  1.633639e+09  1.845969   \n",
      "\n",
      "             t  \n",
      "129   0.000000  \n",
      "1     7.546580  \n",
      "53   10.172437  \n",
      "54   10.172471  \n",
      "55   10.172474  \n",
      "56   10.172490  \n",
      "18   13.876301  \n",
      "16   13.942491  \n",
      "17   13.942557  \n",
      "105  17.861683  \n"
     ]
    }
   ],
   "source": [
    "print(df.head(10))"
   ],
   "metadata": {
    "collapsed": false,
    "pycharm": {
     "name": "#%%\n"
    }
   }
  },
  {
   "cell_type": "code",
   "execution_count": 53,
   "outputs": [
    {
     "name": "stdout",
     "output_type": "stream",
     "text": [
      "    userID  gemPackID:        p.time        a.time          time   latency  \\\n",
      "13       1           3  1.633639e+09  1.633639e+09  1.633639e+09  0.724619   \n",
      "14       2           3  1.633639e+09  1.633639e+09  1.633639e+09  1.724735   \n",
      "15       2           3  1.633639e+09  1.633639e+09  1.633639e+09  2.724982   \n",
      "12       4           3  1.633639e+09  1.633639e+09  1.633639e+09  0.727994   \n",
      "93       2           4  1.633639e+09  1.633639e+09  1.633639e+09  0.738405   \n",
      "94       2           4  1.633639e+09  1.633639e+09  1.633639e+09  0.737883   \n",
      "95       3           2  1.633639e+09  1.633639e+09  1.633639e+09  0.737673   \n",
      "92       4           1  1.633639e+09  1.633639e+09  1.633639e+09  0.740364   \n",
      "76       3           2  1.633639e+09  1.633639e+09  1.633639e+09  0.737315   \n",
      "77       3           2  1.633639e+09  1.633639e+09  1.633639e+09  0.737626   \n",
      "\n",
      "             t  \n",
      "13  585.740326  \n",
      "14  585.740374  \n",
      "15  585.740378  \n",
      "12  585.743444  \n",
      "93  589.753892  \n",
      "94  589.753944  \n",
      "95  589.753950  \n",
      "92  589.756152  \n",
      "76  593.753016  \n",
      "77  593.753065  \n"
     ]
    }
   ],
   "source": [
    "print(df.tail(10))"
   ],
   "metadata": {
    "collapsed": false,
    "pycharm": {
     "name": "#%%\n"
    }
   }
  },
  {
   "cell_type": "code",
   "execution_count": 54,
   "outputs": [
    {
     "name": "stdout",
     "output_type": "stream",
     "text": [
      "           userID  gemPackID:        p.time        a.time          time  \\\n",
      "count  214.000000  214.000000  2.140000e+02  2.140000e+02  2.140000e+02   \n",
      "mean     2.107477    1.990654  1.633639e+09  1.633639e+09  1.633639e+09   \n",
      "std      1.374701    1.466338  1.900899e+02  1.901078e+02  1.900485e+02   \n",
      "min      0.000000    0.000000  1.633639e+09  1.633639e+09  1.633639e+09   \n",
      "25%      1.000000    1.000000  1.633639e+09  1.633639e+09  1.633639e+09   \n",
      "50%      2.000000    2.000000  1.633639e+09  1.633639e+09  1.633639e+09   \n",
      "75%      3.000000    3.000000  1.633639e+09  1.633639e+09  1.633639e+09   \n",
      "max      4.000000    4.000000  1.633639e+09  1.633639e+09  1.633639e+09   \n",
      "\n",
      "          latency           t  \n",
      "count  214.000000  214.000000  \n",
      "mean     1.607644  260.384994  \n",
      "std      0.907922  190.048462  \n",
      "min      0.724345    0.000000  \n",
      "25%      0.774861   66.843093  \n",
      "50%      1.745564  239.769145  \n",
      "75%      1.859282  413.761043  \n",
      "max      3.836547  593.753065  \n"
     ]
    }
   ],
   "source": [
    "print(df.describe())"
   ],
   "metadata": {
    "collapsed": false,
    "pycharm": {
     "name": "#%%\n"
    }
   }
  },
  {
   "cell_type": "code",
   "execution_count": 55,
   "outputs": [
    {
     "data": {
      "text/plain": "[<matplotlib.lines.Line2D at 0x15538d9a0>]"
     },
     "execution_count": 55,
     "metadata": {},
     "output_type": "execute_result"
    },
    {
     "data": {
      "text/plain": "<Figure size 640x480 with 1 Axes>",
      "image/png": "[encoded data removed]"
     },
     "metadata": {},
     "output_type": "display_data"
    }
   ],
   "source": [
    "plt.plot(df['t'].values, df['latency'].values)"
   ],
   "metadata": {
    "collapsed": false,
    "pycharm": {
     "name": "#%%\n"
    }
   }
  },
  {
   "cell_type": "code",
   "execution_count": 56,
   "outputs": [
    {
     "name": "stdout",
     "output_type": "stream",
     "text": [
      "1498\n",
      "191     85.807522\n",
      "110     89.815343\n",
      "111     89.815391\n",
      "112     89.815395\n",
      "137     93.799203\n",
      "138     93.799256\n",
      "136     93.800933\n",
      "6      105.803225\n",
      "5      105.806664\n",
      "108    113.777015\n",
      "109    113.777061\n",
      "23     129.815072\n",
      "50     133.775899\n",
      "113    137.807009\n",
      "114    137.807051\n",
      "115    137.807056\n",
      "116    137.807101\n",
      "117    137.807106\n",
      "118    137.807111\n",
      "119    137.807115\n",
      "134    141.781493\n",
      "65     149.810503\n",
      "39     153.780466\n",
      "153    157.755988\n",
      "172    161.798631\n",
      "173    161.798681\n",
      "11     165.768064\n",
      "102    169.774568\n",
      "103    169.774613\n",
      "86     173.780405\n",
      "188    177.783535\n",
      "189    177.783597\n",
      "190    177.783603\n",
      "187    177.790532\n",
      "166    181.806893\n",
      "165    181.815417\n",
      "71     189.802028\n",
      "70     189.802436\n",
      "51     197.801538\n",
      "52     197.801586\n",
      "Name: t, dtype: float64\n",
      "Series([], Name: latency, dtype: float64)\n"
     ]
    }
   ],
   "source": [
    "print(df.size)\n",
    "print(df['t'][60:100])\n",
    "print(df['latency'][500:10000])"
   ],
   "metadata": {
    "collapsed": false,
    "pycharm": {
     "name": "#%%\n"
    }
   }
  },
  {
   "cell_type": "code",
   "execution_count": 56,
   "outputs": [],
   "source": [],
   "metadata": {
    "collapsed": false,
    "pycharm": {
     "name": "#%%\n"
    }
   }
  }
 ],
 "metadata": {
  "kernelspec": {
   "display_name": "Python 3",
   "language": "python",
   "name": "python3"
  },
  "language_info": {
   "codemirror_mode": {
    "name": "ipython",
    "version": 2
   },
   "file_extension": ".py",
   "mimetype": "text/x-python",
   "name": "python",
   "nbconvert_exporter": "python",
   "pygments_lexer": "ipython2",
   "version": "2.7.6"
  }
 },
 "nbformat": 4,
 "nbformat_minor": 0
}