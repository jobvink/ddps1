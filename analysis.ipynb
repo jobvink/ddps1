{
 "cells": [
  {
   "cell_type": "code",
   "execution_count": 24,
   "metadata": {
    "collapsed": true
   },
   "outputs": [],
   "source": [
    "import glob\n",
    "import os\n",
    "import json\n",
    "\n",
    "import numpy as np\n",
    "import pandas as pd"
   ]
  },
  {
   "cell_type": "code",
   "execution_count": 25,
   "outputs": [],
   "source": [
    "parts = glob.glob('./results/*')"
   ],
   "metadata": {
    "collapsed": false,
    "pycharm": {
     "name": "#%%\n"
    }
   }
  },
  {
   "cell_type": "code",
   "execution_count": 26,
   "outputs": [
    {
     "data": {
      "text/plain": "['./results/result-1633437032000',\n './results/result-1633437172000',\n './results/result-1633436288000',\n './results/result-1633436564000',\n './results/result-1633436424000',\n './results/result-1633436820000',\n './results/result-1633436960000',\n './results/result-1633436772000',\n './results/result-1633436632000',\n './results/result-1633436680000',\n './results/result-1633436540000',\n './results/result-1633436400000',\n './results/result-1633436892000',\n './results/result-1633436804000',\n './results/result-1633436496000',\n './results/result-1633436944000',\n './results/result-1633436756000',\n './results/result-1633436616000',\n './results/result-1633437016000',\n './results/result-1633437156000',\n './results/result-1633437080000',\n './results/result-1633437200000',\n './results/result-1633437220000',\n './results/result-1633437036000',\n './results/result-1633437176000',\n './results/result-1633436776000',\n './results/result-1633436636000',\n './results/result-1633436824000',\n './results/result-1633436964000',\n './results/result-1633436560000',\n './results/result-1633436420000',\n './results/result-1633436752000',\n './results/result-1633436612000',\n './results/result-1633436492000',\n './results/result-1633436800000',\n './results/result-1633436940000',\n './results/result-1633436544000',\n './results/result-1633436896000',\n './results/result-1633436404000',\n './results/result-1633436684000',\n './results/result-1633437204000',\n './results/result-1633437084000',\n './results/result-1633437012000',\n './results/result-1633437152000',\n './results/result-1633437112000',\n './results/result-1633437052000',\n './results/result-1633437184000',\n './results/result-1633436444000',\n './results/result-1633436996000',\n './results/result-1633436504000',\n './results/result-1633436784000',\n './results/result-1633436652000',\n './results/result-1633436712000',\n './results/result-1633436592000',\n './results/result-1633436900000',\n './results/result-1633436840000',\n './results/result-1633436460000',\n './results/result-1633436520000',\n './results/result-1633436676000',\n './results/result-1633436736000',\n './results/result-1633436924000',\n './results/result-1633436864000',\n './results/result-1633437136000',\n './results/result-1633437076000',\n './results/result-1633437180000',\n './results/result-1633437116000',\n './results/result-1633437056000',\n './results/result-1633436904000',\n './results/result-1633436596000',\n './results/result-1633436844000',\n './results/result-1633436656000',\n './results/result-1633436716000',\n './results/result-1633436780000',\n './results/result-1633436440000',\n './results/result-1633436500000',\n './results/result-1633436992000',\n './results/result-1633436920000',\n './results/result-1633436860000',\n './results/result-1633436672000',\n './results/result-1633436732000',\n './results/result-1633436464000',\n './results/result-1633436524000',\n './results/result-1633436388000',\n './results/result-1633437132000',\n './results/result-1633437072000',\n './results/result-1633436888000',\n './results/result-1633436360000',\n './results/result-1633436292000',\n './results/result-1633437168000',\n './results/result-1633436344000',\n './results/result-1633437028000',\n './results/result-1633436628000',\n './results/result-1633436768000',\n './results/result-1633436488000',\n './results/result-1633436608000',\n './results/result-1633436748000',\n './results/result-1633437148000',\n './results/result-1633437008000',\n './results/result-1633436364000',\n './results/result-1633436340000',\n './results/result-1633436296000',\n './results/result-1633436396000',\n './results/result-1633436300000',\n './results/result-1633436324000',\n './results/result-1633437048000',\n './results/result-1633437108000',\n './results/result-1633436588000',\n './results/result-1633436708000',\n './results/result-1633436648000',\n './results/result-1633436728000',\n './results/result-1633436668000',\n './results/result-1633437068000',\n './results/result-1633436304000',\n './results/result-1633437128000',\n './results/result-1633436392000',\n './results/result-1633436320000',\n './results/result-1633436988000',\n './results/result-1633436568000',\n './results/result-1633436428000',\n './results/result-1633436352000',\n './results/result-1633436376000',\n './results/result-1633436808000',\n './results/result-1633436948000',\n './results/result-1633436828000',\n './results/result-1633436968000',\n './results/result-1633436356000',\n './results/result-1633436372000',\n './results/result-1633437208000',\n './results/result-1633437088000',\n './results/result-1633436548000',\n './results/result-1633436408000',\n './results/result-1633436688000',\n './results/result-1633436448000',\n './results/result-1633436508000',\n './results/result-1633436788000',\n './results/result-1633437188000',\n './results/result-1633436332000',\n './results/result-1633436380000',\n './results/result-1633436316000',\n './results/result-1633436928000',\n './results/result-1633436868000',\n './results/result-1633436908000',\n './results/result-1633436848000',\n './results/result-1633436336000',\n './results/result-1633436312000',\n './results/result-1633436384000',\n './results/result-1633436468000',\n './results/result-1633436528000',\n './results/result-1633437140000',\n './results/result-1633437000000',\n './results/result-1633437216000',\n './results/result-1633437096000',\n './results/result-1633436416000',\n './results/result-1633436884000',\n './results/result-1633436556000',\n './results/result-1633436696000',\n './results/result-1633436600000',\n './results/result-1633436740000',\n './results/result-1633436952000',\n './results/result-1633436812000',\n './results/result-1633436480000',\n './results/result-1633436432000',\n './results/result-1633436572000',\n './results/result-1633436624000',\n './results/result-1633436764000',\n './results/result-1633436976000',\n './results/result-1633436836000',\n './results/result-1633437164000',\n './results/result-1633436348000',\n './results/result-1633437024000',\n './results/result-1633437092000',\n './results/result-1633437212000',\n './results/result-1633437144000',\n './results/result-1633437004000',\n './results/result-1633436368000',\n './results/result-1633436956000',\n './results/result-1633436484000',\n './results/result-1633436816000',\n './results/result-1633436604000',\n './results/result-1633436744000',\n './results/result-1633436692000',\n './results/result-1633436880000',\n './results/result-1633436412000',\n './results/result-1633436552000',\n './results/result-1633436972000',\n './results/result-1633436832000',\n './results/result-1633436620000',\n './results/result-1633436760000',\n './results/result-1633436436000',\n './results/result-1633436576000',\n './results/result-1633437160000',\n './results/result-1633437020000',\n './results/result-1633437060000',\n './results/result-1633437120000',\n './results/result-1633436536000',\n './results/result-1633436476000',\n './results/result-1633436872000',\n './results/result-1633436932000',\n './results/result-1633436720000',\n './results/result-1633436660000',\n './results/result-1633436792000',\n './results/result-1633436980000',\n './results/result-1633436512000',\n './results/result-1633436452000',\n './results/result-1633436856000',\n './results/result-1633436584000',\n './results/result-1633436916000',\n './results/result-1633436704000',\n './results/result-1633436644000',\n './results/result-1633436328000',\n './results/result-1633437044000',\n './results/result-1633437104000',\n './results/result-1633437192000',\n './results/result-1633437064000',\n './results/result-1633436308000',\n './results/result-1633437124000',\n './results/result-1633436724000',\n './results/result-1633436664000',\n './results/result-1633436876000',\n './results/result-1633436936000',\n './results/result-1633436532000',\n './results/result-1633436472000',\n './results/result-1633436700000',\n './results/result-1633436640000',\n './results/result-1633436852000',\n './results/result-1633436912000',\n './results/result-1633436580000',\n './results/result-1633436516000',\n './results/result-1633436984000',\n './results/result-1633436456000',\n './results/result-1633436796000',\n './results/result-1633437196000',\n './results/result-1633437040000',\n './results/result-1633437100000']"
     },
     "execution_count": 26,
     "metadata": {},
     "output_type": "execute_result"
    }
   ],
   "source": [
    "parts"
   ],
   "metadata": {
    "collapsed": false,
    "pycharm": {
     "name": "#%%\n"
    }
   }
  },
  {
   "cell_type": "code",
   "execution_count": 27,
   "outputs": [],
   "source": [
    "files = []\n",
    "for part in parts:\n",
    "    files.append(glob.glob(os.path.join(part, 'part-*')))\n"
   ],
   "metadata": {
    "collapsed": false,
    "pycharm": {
     "name": "#%%\n"
    }
   }
  },
  {
   "cell_type": "code",
   "execution_count": 28,
   "outputs": [],
   "source": [
    "\n",
    "\n",
    "files = np.array(files).flatten()"
   ],
   "metadata": {
    "collapsed": false,
    "pycharm": {
     "name": "#%%\n"
    }
   }
  },
  {
   "cell_type": "code",
   "execution_count": 29,
   "outputs": [],
   "source": [
    "data = []\n",
    "for file in files:\n",
    "    with open(file, 'r') as f:\n",
    "        lines = f.readlines()\n",
    "        for line in lines:\n",
    "            point = json.loads(line.replace(\"'\", '\"'))\n",
    "            data.append(point)"
   ],
   "metadata": {
    "collapsed": false,
    "pycharm": {
     "name": "#%%\n"
    }
   }
  },
  {
   "cell_type": "code",
   "execution_count": 39,
   "outputs": [],
   "source": [
    "df = pd.DataFrame(data, columns=['packID', 'price', 'latency'])"
   ],
   "metadata": {
    "collapsed": false,
    "pycharm": {
     "name": "#%%\n"
    }
   }
  },
  {
   "cell_type": "code",
   "execution_count": 40,
   "outputs": [
    {
     "name": "stdout",
     "output_type": "stream",
     "text": [
      "  packID     price   latency\n",
      "0      2   68715.0  0.445868\n",
      "1      3   96092.0  0.446094\n",
      "2      0   24183.0  0.444700\n",
      "3      1   46164.0  0.444725\n",
      "4      4  120675.0  0.444497\n",
      "5      3   92452.0  0.439665\n",
      "6      2   70458.0  0.439242\n",
      "7      0   23388.0  0.403295\n",
      "8      1   46816.0  0.403358\n",
      "9      4  117240.0  0.403168\n",
      "               price      latency\n",
      "count    1170.000000  1170.000000\n",
      "mean    70270.777778     0.455276\n",
      "std     33467.337362     0.189849\n",
      "min      8706.000000     0.373127\n",
      "25%     46169.500000     0.410756\n",
      "50%     70221.000000     0.431468\n",
      "75%     95172.000000     0.457112\n",
      "max    124710.000000     2.622567\n"
     ]
    }
   ],
   "source": [
    "print(df.head(10))\n",
    "print(df.describe())"
   ],
   "metadata": {
    "collapsed": false,
    "pycharm": {
     "name": "#%%\n"
    }
   }
  },
  {
   "cell_type": "code",
   "execution_count": 38,
   "outputs": [
    {
     "name": "stderr",
     "output_type": "stream",
     "text": [
      "/Library/Python/3.8/site-packages/numpy/core/_asarray.py:83: VisibleDeprecationWarning: Creating an ndarray from ragged nested sequences (which is a list-or-tuple of lists-or-tuples-or ndarrays with different lengths or shapes) is deprecated. If you meant to do this, you must specify 'dtype=object' when creating the ndarray\n",
      "  return array(a, dtype, copy=False, order=order)\n"
     ]
    },
    {
     "ename": "TypeError",
     "evalue": "unhashable type: 'RangeIndex'",
     "output_type": "error",
     "traceback": [
      "\u001B[0;31m---------------------------------------------------------------------------\u001B[0m",
      "\u001B[0;31mTypeError\u001B[0m                                 Traceback (most recent call last)",
      "\u001B[0;32m<ipython-input-38-745125f0ed73>\u001B[0m in \u001B[0;36m<module>\u001B[0;34m\u001B[0m\n\u001B[0;32m----> 1\u001B[0;31m \u001B[0mdf\u001B[0m\u001B[0;34m[\u001B[0m\u001B[0;34m[\u001B[0m\u001B[0mdf\u001B[0m\u001B[0;34m.\u001B[0m\u001B[0mindex\u001B[0m\u001B[0;34m,\u001B[0m \u001B[0;34m'latency'\u001B[0m\u001B[0;34m]\u001B[0m\u001B[0;34m]\u001B[0m\u001B[0;34m.\u001B[0m\u001B[0mplot\u001B[0m\u001B[0;34m(\u001B[0m\u001B[0;34m)\u001B[0m\u001B[0;34m\u001B[0m\u001B[0;34m\u001B[0m\u001B[0m\n\u001B[0m",
      "\u001B[0;32m/Library/Python/3.8/site-packages/pandas/core/frame.py\u001B[0m in \u001B[0;36m__getitem__\u001B[0;34m(self, key)\u001B[0m\n\u001B[1;32m   3028\u001B[0m             \u001B[0;32mif\u001B[0m \u001B[0mis_iterator\u001B[0m\u001B[0;34m(\u001B[0m\u001B[0mkey\u001B[0m\u001B[0;34m)\u001B[0m\u001B[0;34m:\u001B[0m\u001B[0;34m\u001B[0m\u001B[0;34m\u001B[0m\u001B[0m\n\u001B[1;32m   3029\u001B[0m                 \u001B[0mkey\u001B[0m \u001B[0;34m=\u001B[0m \u001B[0mlist\u001B[0m\u001B[0;34m(\u001B[0m\u001B[0mkey\u001B[0m\u001B[0;34m)\u001B[0m\u001B[0;34m\u001B[0m\u001B[0;34m\u001B[0m\u001B[0m\n\u001B[0;32m-> 3030\u001B[0;31m             \u001B[0mindexer\u001B[0m \u001B[0;34m=\u001B[0m \u001B[0mself\u001B[0m\u001B[0;34m.\u001B[0m\u001B[0mloc\u001B[0m\u001B[0;34m.\u001B[0m\u001B[0m_get_listlike_indexer\u001B[0m\u001B[0;34m(\u001B[0m\u001B[0mkey\u001B[0m\u001B[0;34m,\u001B[0m \u001B[0maxis\u001B[0m\u001B[0;34m=\u001B[0m\u001B[0;36m1\u001B[0m\u001B[0;34m,\u001B[0m \u001B[0mraise_missing\u001B[0m\u001B[0;34m=\u001B[0m\u001B[0;32mTrue\u001B[0m\u001B[0;34m)\u001B[0m\u001B[0;34m[\u001B[0m\u001B[0;36m1\u001B[0m\u001B[0;34m]\u001B[0m\u001B[0;34m\u001B[0m\u001B[0;34m\u001B[0m\u001B[0m\n\u001B[0m\u001B[1;32m   3031\u001B[0m \u001B[0;34m\u001B[0m\u001B[0m\n\u001B[1;32m   3032\u001B[0m         \u001B[0;31m# take() does not accept boolean indexers\u001B[0m\u001B[0;34m\u001B[0m\u001B[0;34m\u001B[0m\u001B[0;34m\u001B[0m\u001B[0m\n",
      "\u001B[0;32m/Library/Python/3.8/site-packages/pandas/core/indexing.py\u001B[0m in \u001B[0;36m_get_listlike_indexer\u001B[0;34m(self, key, axis, raise_missing)\u001B[0m\n\u001B[1;32m   1259\u001B[0m \u001B[0;34m\u001B[0m\u001B[0m\n\u001B[1;32m   1260\u001B[0m         \u001B[0;32mif\u001B[0m \u001B[0max\u001B[0m\u001B[0;34m.\u001B[0m\u001B[0m_index_as_unique\u001B[0m\u001B[0;34m:\u001B[0m\u001B[0;34m\u001B[0m\u001B[0;34m\u001B[0m\u001B[0m\n\u001B[0;32m-> 1261\u001B[0;31m             \u001B[0mindexer\u001B[0m \u001B[0;34m=\u001B[0m \u001B[0max\u001B[0m\u001B[0;34m.\u001B[0m\u001B[0mget_indexer_for\u001B[0m\u001B[0;34m(\u001B[0m\u001B[0mkeyarr\u001B[0m\u001B[0;34m)\u001B[0m\u001B[0;34m\u001B[0m\u001B[0;34m\u001B[0m\u001B[0m\n\u001B[0m\u001B[1;32m   1262\u001B[0m             \u001B[0mkeyarr\u001B[0m \u001B[0;34m=\u001B[0m \u001B[0max\u001B[0m\u001B[0;34m.\u001B[0m\u001B[0mreindex\u001B[0m\u001B[0;34m(\u001B[0m\u001B[0mkeyarr\u001B[0m\u001B[0;34m)\u001B[0m\u001B[0;34m[\u001B[0m\u001B[0;36m0\u001B[0m\u001B[0;34m]\u001B[0m\u001B[0;34m\u001B[0m\u001B[0;34m\u001B[0m\u001B[0m\n\u001B[1;32m   1263\u001B[0m         \u001B[0;32melse\u001B[0m\u001B[0;34m:\u001B[0m\u001B[0;34m\u001B[0m\u001B[0;34m\u001B[0m\u001B[0m\n",
      "\u001B[0;32m/Library/Python/3.8/site-packages/pandas/core/indexes/base.py\u001B[0m in \u001B[0;36mget_indexer_for\u001B[0;34m(self, target, **kwargs)\u001B[0m\n\u001B[1;32m   4958\u001B[0m         \"\"\"\n\u001B[1;32m   4959\u001B[0m         \u001B[0;32mif\u001B[0m \u001B[0mself\u001B[0m\u001B[0;34m.\u001B[0m\u001B[0m_index_as_unique\u001B[0m\u001B[0;34m:\u001B[0m\u001B[0;34m\u001B[0m\u001B[0;34m\u001B[0m\u001B[0m\n\u001B[0;32m-> 4960\u001B[0;31m             \u001B[0;32mreturn\u001B[0m \u001B[0mself\u001B[0m\u001B[0;34m.\u001B[0m\u001B[0mget_indexer\u001B[0m\u001B[0;34m(\u001B[0m\u001B[0mtarget\u001B[0m\u001B[0;34m,\u001B[0m \u001B[0;34m**\u001B[0m\u001B[0mkwargs\u001B[0m\u001B[0;34m)\u001B[0m\u001B[0;34m\u001B[0m\u001B[0;34m\u001B[0m\u001B[0m\n\u001B[0m\u001B[1;32m   4961\u001B[0m         \u001B[0mindexer\u001B[0m\u001B[0;34m,\u001B[0m \u001B[0m_\u001B[0m \u001B[0;34m=\u001B[0m \u001B[0mself\u001B[0m\u001B[0;34m.\u001B[0m\u001B[0mget_indexer_non_unique\u001B[0m\u001B[0;34m(\u001B[0m\u001B[0mtarget\u001B[0m\u001B[0;34m)\u001B[0m\u001B[0;34m\u001B[0m\u001B[0;34m\u001B[0m\u001B[0m\n\u001B[1;32m   4962\u001B[0m         \u001B[0;32mreturn\u001B[0m \u001B[0mindexer\u001B[0m\u001B[0;34m\u001B[0m\u001B[0;34m\u001B[0m\u001B[0m\n",
      "\u001B[0;32m/Library/Python/3.8/site-packages/pandas/core/indexes/base.py\u001B[0m in \u001B[0;36mget_indexer\u001B[0;34m(self, target, method, limit, tolerance)\u001B[0m\n\u001B[1;32m   3189\u001B[0m                 )\n\u001B[1;32m   3190\u001B[0m \u001B[0;34m\u001B[0m\u001B[0m\n\u001B[0;32m-> 3191\u001B[0;31m             \u001B[0mindexer\u001B[0m \u001B[0;34m=\u001B[0m \u001B[0mself\u001B[0m\u001B[0;34m.\u001B[0m\u001B[0m_engine\u001B[0m\u001B[0;34m.\u001B[0m\u001B[0mget_indexer\u001B[0m\u001B[0;34m(\u001B[0m\u001B[0mtarget\u001B[0m\u001B[0;34m.\u001B[0m\u001B[0m_get_engine_target\u001B[0m\u001B[0;34m(\u001B[0m\u001B[0;34m)\u001B[0m\u001B[0;34m)\u001B[0m\u001B[0;34m\u001B[0m\u001B[0;34m\u001B[0m\u001B[0m\n\u001B[0m\u001B[1;32m   3192\u001B[0m \u001B[0;34m\u001B[0m\u001B[0m\n\u001B[1;32m   3193\u001B[0m         \u001B[0;32mreturn\u001B[0m \u001B[0mensure_platform_int\u001B[0m\u001B[0;34m(\u001B[0m\u001B[0mindexer\u001B[0m\u001B[0;34m)\u001B[0m\u001B[0;34m\u001B[0m\u001B[0;34m\u001B[0m\u001B[0m\n",
      "\u001B[0;32mpandas/_libs/index.pyx\u001B[0m in \u001B[0;36mpandas._libs.index.IndexEngine.get_indexer\u001B[0;34m()\u001B[0m\n",
      "\u001B[0;32mpandas/_libs/hashtable_class_helper.pxi\u001B[0m in \u001B[0;36mpandas._libs.hashtable.PyObjectHashTable.lookup\u001B[0;34m()\u001B[0m\n",
      "\u001B[0;32m/Library/Python/3.8/site-packages/pandas/core/indexes/base.py\u001B[0m in \u001B[0;36m__hash__\u001B[0;34m(self)\u001B[0m\n\u001B[1;32m   4271\u001B[0m     \u001B[0;34m@\u001B[0m\u001B[0mfinal\u001B[0m\u001B[0;34m\u001B[0m\u001B[0;34m\u001B[0m\u001B[0m\n\u001B[1;32m   4272\u001B[0m     \u001B[0;32mdef\u001B[0m \u001B[0m__hash__\u001B[0m\u001B[0;34m(\u001B[0m\u001B[0mself\u001B[0m\u001B[0;34m)\u001B[0m\u001B[0;34m:\u001B[0m\u001B[0;34m\u001B[0m\u001B[0;34m\u001B[0m\u001B[0m\n\u001B[0;32m-> 4273\u001B[0;31m         \u001B[0;32mraise\u001B[0m \u001B[0mTypeError\u001B[0m\u001B[0;34m(\u001B[0m\u001B[0;34mf\"unhashable type: {repr(type(self).__name__)}\"\u001B[0m\u001B[0;34m)\u001B[0m\u001B[0;34m\u001B[0m\u001B[0;34m\u001B[0m\u001B[0m\n\u001B[0m\u001B[1;32m   4274\u001B[0m \u001B[0;34m\u001B[0m\u001B[0m\n\u001B[1;32m   4275\u001B[0m     \u001B[0;34m@\u001B[0m\u001B[0mfinal\u001B[0m\u001B[0;34m\u001B[0m\u001B[0;34m\u001B[0m\u001B[0m\n",
      "\u001B[0;31mTypeError\u001B[0m: unhashable type: 'RangeIndex'"
     ]
    }
   ],
   "source": [
    "df[[df.index, 'latency']].plot()"
   ],
   "metadata": {
    "collapsed": false,
    "pycharm": {
     "name": "#%%\n"
    }
   }
  },
  {
   "cell_type": "code",
   "execution_count": null,
   "outputs": [],
   "source": [],
   "metadata": {
    "collapsed": false,
    "pycharm": {
     "name": "#%%\n"
    }
   }
  }
 ],
 "metadata": {
  "kernelspec": {
   "display_name": "Python 3",
   "language": "python",
   "name": "python3"
  },
  "language_info": {
   "codemirror_mode": {
    "name": "ipython",
    "version": 2
   },
   "file_extension": ".py",
   "mimetype": "text/x-python",
   "name": "python",
   "nbconvert_exporter": "python",
   "pygments_lexer": "ipython2",
   "version": "2.7.6"
  }
 },
 "nbformat": 4,
 "nbformat_minor": 0
}