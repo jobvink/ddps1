{
 "cells": [
  {
   "cell_type": "code",
   "execution_count": 96,
   "metadata": {
    "collapsed": true
   },
   "outputs": [],
   "source": [
    "import glob\n",
    "import os\n",
    "import json\n",
    "\n",
    "import numpy as np\n",
    "import pandas as pd\n",
    "import matplotlib.pyplot as plt\n",
    "\n",
    "plt.style.use('classic')"
   ]
  },
  {
   "cell_type": "code",
   "execution_count": 97,
   "outputs": [],
   "source": [
    "parts = glob.glob('./results/experiment-join/*')"
   ],
   "metadata": {
    "collapsed": false,
    "pycharm": {
     "name": "#%%\n"
    }
   }
  },
  {
   "cell_type": "code",
   "execution_count": 98,
   "outputs": [],
   "source": [
    "files = []\n",
    "for part in parts:\n",
    "    sub_parts = glob.glob(os.path.join(part, 'part-*'))\n",
    "    for sub in sub_parts:\n",
    "        files.append(sub)"
   ],
   "metadata": {
    "collapsed": false,
    "pycharm": {
     "name": "#%%\n"
    }
   }
  },
  {
   "cell_type": "code",
   "execution_count": 99,
   "outputs": [],
   "source": [
    "files = np.array(files).flatten()"
   ],
   "metadata": {
    "collapsed": false,
    "pycharm": {
     "name": "#%%\n"
    }
   }
  },
  {
   "cell_type": "code",
   "execution_count": 100,
   "outputs": [
    {
     "name": "stdout",
     "output_type": "stream",
     "text": [
      "['./results/experiment-join/result-1633630888000/part-00001'\n",
      " './results/experiment-join/result-1633630888000/part-00000'\n",
      " './results/experiment-join/result-1633631028000/part-00001'\n",
      " './results/experiment-join/result-1633631028000/part-00000'\n",
      " './results/experiment-join/result-1633631168000/part-00001']\n"
     ]
    }
   ],
   "source": [
    "print(files[:5])"
   ],
   "metadata": {
    "collapsed": false,
    "pycharm": {
     "name": "#%%\n"
    }
   }
  },
  {
   "cell_type": "code",
   "execution_count": 101,
   "outputs": [],
   "source": [
    "data = []\n",
    "for file in files:\n",
    "    with open(file, 'r') as f:\n",
    "        lines = f.readlines()\n",
    "        for line in lines:\n",
    "            point = json.loads(line.replace(\"'\", '\"'))\n",
    "            data.append(point)"
   ],
   "metadata": {
    "collapsed": false,
    "pycharm": {
     "name": "#%%\n"
    }
   }
  },
  {
   "cell_type": "code",
   "execution_count": 106,
   "outputs": [
    {
     "name": "stdout",
     "output_type": "stream",
     "text": [
      "[{'userID': 2, 'gemPackID:': 2, 'p.time': 1633630452.2573524, 'a.time': 1633630452.3206367, 'time': 1633630888.303306, 'latency': 435.98266983032227}, {'userID': 2, 'gemPackID:': 2, 'p.time': 1633630452.394287, 'a.time': 1633630452.3206367, 'time': 1633630888.3033557, 'latency': 435.9090690612793}, {'userID': 2, 'gemPackID:': 2, 'p.time': 1633630452.2235062, 'a.time': 1633630452.3206367, 'time': 1633630888.3033602, 'latency': 435.98272371292114}, {'userID': 0, 'gemPackID:': 3, 'p.time': 1633630452.2571352, 'a.time': 1633630452.4481158, 'time': 1633631028.234667, 'latency': 575.7865514755249}, {'userID': 4, 'gemPackID:': 0, 'p.time': 1633630452.331043, 'a.time': 1633630452.5187728, 'time': 1633631028.234776, 'latency': 575.7160036563873}]\n"
     ]
    }
   ],
   "source": [
    "print(data[:5])"
   ],
   "metadata": {
    "collapsed": false,
    "pycharm": {
     "name": "#%%\n"
    }
   }
  },
  {
   "cell_type": "code",
   "execution_count": 114,
   "outputs": [],
   "source": [
    "df = pd.DataFrame(data, columns=['userID', 'gemPackID', 'p.time', 'a.time', 'time', 'latency'])"
   ],
   "metadata": {
    "collapsed": false,
    "pycharm": {
     "name": "#%%\n"
    }
   }
  },
  {
   "cell_type": "code",
   "execution_count": 115,
   "outputs": [],
   "source": [
    "df['t'] = df['time'] - df['time'].min()\n",
    "#"
   ],
   "metadata": {
    "collapsed": false,
    "pycharm": {
     "name": "#%%\n"
    }
   }
  },
  {
   "cell_type": "code",
   "execution_count": 118,
   "outputs": [
    {
     "name": "stdout",
     "output_type": "stream",
     "text": [
      "      userID  gemPackID        p.time        a.time          time   latency  \\\n",
      "2630       4        NaN  1.633630e+09  1.633630e+09  1.633630e+09  3.262093   \n",
      "2631       4        NaN  1.633630e+09  1.633630e+09  1.633630e+09  3.273633   \n",
      "2632       4        NaN  1.633630e+09  1.633630e+09  1.633630e+09  3.254385   \n",
      "2633       4        NaN  1.633630e+09  1.633630e+09  1.633630e+09  3.204293   \n",
      "2634       4        NaN  1.633630e+09  1.633630e+09  1.633630e+09  3.216017   \n",
      "2635       4        NaN  1.633630e+09  1.633630e+09  1.633630e+09  3.226579   \n",
      "2636       4        NaN  1.633630e+09  1.633630e+09  1.633630e+09  3.219703   \n",
      "2637       4        NaN  1.633630e+09  1.633630e+09  1.633630e+09  3.214624   \n",
      "2638       4        NaN  1.633630e+09  1.633630e+09  1.633630e+09  3.240535   \n",
      "2639       4        NaN  1.633630e+09  1.633630e+09  1.633630e+09  3.209794   \n",
      "\n",
      "             t  \n",
      "2630  0.000000  \n",
      "2631  0.000055  \n",
      "2632  0.000059  \n",
      "2633  0.000102  \n",
      "2634  0.000106  \n",
      "2635  0.000109  \n",
      "2636  0.000113  \n",
      "2637  0.000154  \n",
      "2638  0.000157  \n",
      "2639  0.000160  \n",
      "         userID  gemPackID        p.time        a.time          time  \\\n",
      "251           2        NaN  1.633630e+09  1.633630e+09  1.633631e+09   \n",
      "252           2        NaN  1.633630e+09  1.633630e+09  1.633631e+09   \n",
      "182           2        NaN  1.633630e+09  1.633630e+09  1.633631e+09   \n",
      "1838349       2        NaN  1.633630e+09  1.633630e+09  1.633631e+09   \n",
      "2338          0        NaN  1.633630e+09  1.633630e+09  1.633631e+09   \n",
      "1838344       0        NaN  1.633630e+09  1.633630e+09  1.633631e+09   \n",
      "1838345       1        NaN  1.633630e+09  1.633630e+09  1.633631e+09   \n",
      "1838346       1        NaN  1.633630e+09  1.633630e+09  1.633631e+09   \n",
      "89653         2        NaN  1.633630e+09  1.633630e+09  1.633631e+09   \n",
      "89654         3        NaN  1.633630e+09  1.633630e+09  1.633631e+09   \n",
      "\n",
      "            latency           t  \n",
      "251      907.711378  905.573069  \n",
      "252      907.711382  905.573074  \n",
      "182      911.745910  909.608482  \n",
      "1838349  915.656819  913.603496  \n",
      "2338     919.856637  917.582008  \n",
      "1838344  927.629582  925.579547  \n",
      "1838345  927.663340  925.581703  \n",
      "1838346  927.663387  925.581749  \n",
      "89653    931.779702  929.643944  \n",
      "89654    931.723060  929.643996  \n",
      "             userID  gemPackID        p.time        a.time          time  \\\n",
      "count  1.838976e+06        0.0  1.838976e+06  1.838976e+06  1.838976e+06   \n",
      "mean   2.015962e+00        NaN  1.633630e+09  1.633630e+09  1.633630e+09   \n",
      "std    1.431181e+00        NaN  2.151382e-01  2.145856e-01  8.334823e+00   \n",
      "min    0.000000e+00        NaN  1.633630e+09  1.633630e+09  1.633630e+09   \n",
      "25%    1.000000e+00        NaN  1.633630e+09  1.633630e+09  1.633630e+09   \n",
      "50%    2.000000e+00        NaN  1.633630e+09  1.633630e+09  1.633630e+09   \n",
      "75%    3.000000e+00        NaN  1.633630e+09  1.633630e+09  1.633630e+09   \n",
      "max    4.000000e+00        NaN  1.633630e+09  1.633630e+09  1.633631e+09   \n",
      "\n",
      "            latency             t  \n",
      "count  1.838976e+06  1.838976e+06  \n",
      "mean   8.443960e+00  5.527534e+00  \n",
      "std    8.317281e+00  8.334823e+00  \n",
      "min    3.204293e+00  0.000000e+00  \n",
      "25%    7.159015e+00  4.254427e+00  \n",
      "50%    7.770000e+00  4.832603e+00  \n",
      "75%    9.746400e+00  6.940035e+00  \n",
      "max    9.317797e+02  9.296440e+02  \n"
     ]
    }
   ],
   "source": [
    "df = df.sort_values('t')\n",
    "print(df.head(10))\n",
    "print(df.tail(10))\n",
    "print(df.describe())"
   ],
   "metadata": {
    "collapsed": false,
    "pycharm": {
     "name": "#%%\n"
    }
   }
  },
  {
   "cell_type": "code",
   "execution_count": 117,
   "outputs": [
    {
     "data": {
      "text/plain": "[<matplotlib.lines.Line2D at 0x141079790>]"
     },
     "execution_count": 117,
     "metadata": {},
     "output_type": "execute_result"
    },
    {
     "data": {
      "text/plain": "<Figure size 640x480 with 1 Axes>",
      "image/png": "[encoded data removed]"
     },
     "metadata": {},
     "output_type": "display_data"
    }
   ],
   "source": [
    "plt.plot(df['time'], df['latency'])"
   ],
   "metadata": {
    "collapsed": false,
    "pycharm": {
     "name": "#%%\n"
    }
   }
  },
  {
   "cell_type": "code",
   "execution_count": 105,
   "outputs": [],
   "source": [],
   "metadata": {
    "collapsed": false,
    "pycharm": {
     "name": "#%%\n"
    }
   }
  }
 ],
 "metadata": {
  "kernelspec": {
   "display_name": "Python 3",
   "language": "python",
   "name": "python3"
  },
  "language_info": {
   "codemirror_mode": {
    "name": "ipython",
    "version": 2
   },
   "file_extension": ".py",
   "mimetype": "text/x-python",
   "name": "python",
   "nbconvert_exporter": "python",
   "pygments_lexer": "ipython2",
   "version": "2.7.6"
  }
 },
 "nbformat": 4,
 "nbformat_minor": 0
}