{
 "cells": [
  {
   "cell_type": "code",
   "execution_count": 38,
   "metadata": {
    "collapsed": true
   },
   "outputs": [],
   "source": [
    "import glob\n",
    "import os\n",
    "import json\n",
    "\n",
    "import numpy as np\n",
    "import pandas as pd\n",
    "import matplotlib.pyplot as plt"
   ]
  },
  {
   "cell_type": "code",
   "execution_count": 39,
   "outputs": [],
   "source": [
    "parts = glob.glob('./results/*')"
   ],
   "metadata": {
    "collapsed": false,
    "pycharm": {
     "name": "#%%\n"
    }
   }
  },
  {
   "cell_type": "code",
   "execution_count": 40,
   "outputs": [],
   "source": [
    "files = []\n",
    "for part in parts:\n",
    "    files.append(glob.glob(os.path.join(part, 'part-*')))"
   ],
   "metadata": {
    "collapsed": false,
    "pycharm": {
     "name": "#%%\n"
    }
   }
  },
  {
   "cell_type": "code",
   "execution_count": 41,
   "outputs": [],
   "source": [
    "files = np.array(files).flatten()"
   ],
   "metadata": {
    "collapsed": false,
    "pycharm": {
     "name": "#%%\n"
    }
   }
  },
  {
   "cell_type": "code",
   "execution_count": 41,
   "outputs": [],
   "source": [],
   "metadata": {
    "collapsed": false,
    "pycharm": {
     "name": "#%%\n"
    }
   }
  },
  {
   "cell_type": "code",
   "execution_count": 42,
   "outputs": [],
   "source": [
    "data = []\n",
    "for file in files:\n",
    "    with open(file, 'r') as f:\n",
    "        lines = f.readlines()\n",
    "        for line in lines:\n",
    "            point = json.loads(line.replace(\"'\", '\"'))\n",
    "            data.append(point)"
   ],
   "metadata": {
    "collapsed": false,
    "pycharm": {
     "name": "#%%\n"
    }
   }
  },
  {
   "cell_type": "code",
   "execution_count": 43,
   "outputs": [],
   "source": [
    "df = pd.DataFrame(data, columns=['packID', 'price', 'time', 'latency'])"
   ],
   "metadata": {
    "collapsed": false,
    "pycharm": {
     "name": "#%%\n"
    }
   }
  },
  {
   "cell_type": "code",
   "execution_count": 49,
   "outputs": [],
   "source": [
    "df['t'] = df['time'] - df['time'].min()"
   ],
   "metadata": {
    "collapsed": false,
    "pycharm": {
     "name": "#%%\n"
    }
   }
  },
  {
   "cell_type": "code",
   "execution_count": 51,
   "outputs": [
    {
     "name": "stdout",
     "output_type": "stream",
     "text": [
      "     packID     price          time   latency         t\n",
      "980       3   17908.0  1.633447e+09  1.027038  0.000000\n",
      "981       2   11592.0  1.633447e+09  1.024310  0.000046\n",
      "982       1    8102.0  1.633447e+09  1.029562  0.003630\n",
      "983       0    4012.0  1.633447e+09  1.030174  0.003680\n",
      "984       4   21970.0  1.633447e+09  1.026765  0.003681\n",
      "1025      2   72999.0  1.633447e+09  0.983227  4.005316\n",
      "1026      3   92168.0  1.633447e+09  0.983755  4.005342\n",
      "1027      0   24719.0  1.633447e+09  0.985251  4.007378\n",
      "1028      1   46696.0  1.633447e+09  0.985219  4.007405\n",
      "1029      4  117700.0  1.633447e+09  0.985164  4.007406\n",
      "               price          time      latency            t\n",
      "count    1195.000000  1.195000e+03  1195.000000  1195.000000\n",
      "mean    70152.520502  1.633447e+09     0.451685   525.727886\n",
      "std     33431.789917  2.791037e+02     0.171154   279.103729\n",
      "min      4012.000000  1.633447e+09     0.372722     0.000000\n",
      "25%     46211.000000  1.633447e+09     0.405773   287.428019\n",
      "50%     70284.000000  1.633447e+09     0.426771   527.423120\n",
      "75%     95696.000000  1.633448e+09     0.454188   767.430763\n",
      "max    125075.000000  1.633448e+09     3.107993  1003.433000\n"
     ]
    }
   ],
   "source": [
    "df = df.sort_values('t')\n",
    "print(df.head(10))\n",
    "print(df.describe())"
   ],
   "metadata": {
    "collapsed": false,
    "pycharm": {
     "name": "#%%\n"
    }
   }
  },
  {
   "cell_type": "code",
   "execution_count": 52,
   "outputs": [
    {
     "data": {
      "text/plain": "[<matplotlib.lines.Line2D at 0x129e10b20>]"
     },
     "execution_count": 52,
     "metadata": {},
     "output_type": "execute_result"
    },
    {
     "data": {
      "text/plain": "<Figure size 432x288 with 1 Axes>",
      "image/png": "[encoded data removed]"
     },
     "metadata": {
      "needs_background": "light"
     },
     "output_type": "display_data"
    }
   ],
   "source": [
    "plt.plot(df['time'], df['latency'])"
   ],
   "metadata": {
    "collapsed": false,
    "pycharm": {
     "name": "#%%\n"
    }
   }
  },
  {
   "cell_type": "code",
   "execution_count": 45,
   "outputs": [],
   "source": [],
   "metadata": {
    "collapsed": false,
    "pycharm": {
     "name": "#%%\n"
    }
   }
  }
 ],
 "metadata": {
  "kernelspec": {
   "display_name": "Python 3",
   "language": "python",
   "name": "python3"
  },
  "language_info": {
   "codemirror_mode": {
    "name": "ipython",
    "version": 2
   },
   "file_extension": ".py",
   "mimetype": "text/x-python",
   "name": "python",
   "nbconvert_exporter": "python",
   "pygments_lexer": "ipython2",
   "version": "2.7.6"
  }
 },
 "nbformat": 4,
 "nbformat_minor": 0
}