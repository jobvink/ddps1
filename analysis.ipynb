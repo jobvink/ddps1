{
 "cells": [
  {
   "cell_type": "code",
   "execution_count": 70,
   "metadata": {
    "collapsed": true
   },
   "outputs": [],
   "source": [
    "import glob\n",
    "import os\n",
    "import json\n",
    "\n",
    "import numpy as np\n",
    "import pandas as pd\n",
    "import matplotlib.pyplot as plt"
   ]
  },
  {
   "cell_type": "code",
   "execution_count": 71,
   "outputs": [],
   "source": [
    "parts = glob.glob('./results/experiment-join/*')"
   ],
   "metadata": {
    "collapsed": false,
    "pycharm": {
     "name": "#%%\n"
    }
   }
  },
  {
   "cell_type": "code",
   "execution_count": 72,
   "outputs": [],
   "source": [
    "files = []\n",
    "for part in parts:\n",
    "    sub_parts = glob.glob(os.path.join(part, 'part-*'))\n",
    "    for sub in sub_parts:\n",
    "        files.append(sub)"
   ],
   "metadata": {
    "collapsed": false,
    "pycharm": {
     "name": "#%%\n"
    }
   }
  },
  {
   "cell_type": "code",
   "execution_count": 73,
   "outputs": [],
   "source": [
    "files = np.array(files).flatten()"
   ],
   "metadata": {
    "collapsed": false,
    "pycharm": {
     "name": "#%%\n"
    }
   }
  },
  {
   "cell_type": "code",
   "execution_count": 74,
   "outputs": [
    {
     "name": "stdout",
     "output_type": "stream",
     "text": [
      "['./results/experiment-join/result-1633627380000/part-00001'\n",
      " './results/experiment-join/result-1633627380000/part-00000'\n",
      " './results/experiment-join/result-1633610184000/part-00001'\n",
      " './results/experiment-join/result-1633610184000/part-00000'\n",
      " './results/experiment-join/result-1633610244000/part-00001']\n"
     ]
    }
   ],
   "source": [
    "print(files[:5])"
   ],
   "metadata": {
    "collapsed": false,
    "pycharm": {
     "name": "#%%\n"
    }
   }
  },
  {
   "cell_type": "code",
   "execution_count": 75,
   "outputs": [],
   "source": [
    "data = []\n",
    "for file in files:\n",
    "    with open(file, 'r') as f:\n",
    "        lines = f.readlines()\n",
    "        for line in lines:\n",
    "            point = json.loads(line.replace(\"'\", '\"'))\n",
    "            data.append(point)"
   ],
   "metadata": {
    "collapsed": false,
    "pycharm": {
     "name": "#%%\n"
    }
   }
  },
  {
   "cell_type": "code",
   "execution_count": 76,
   "outputs": [],
   "source": [
    "df = pd.DataFrame(data, columns=['packID', 'price', 'time', 'latency'])"
   ],
   "metadata": {
    "collapsed": false,
    "pycharm": {
     "name": "#%%\n"
    }
   }
  },
  {
   "cell_type": "code",
   "execution_count": 77,
   "outputs": [],
   "source": [
    "# df['t'] = df['time'] - df['time'].min()\n",
    "#"
   ],
   "metadata": {
    "collapsed": false,
    "pycharm": {
     "name": "#%%\n"
    }
   }
  },
  {
   "cell_type": "code",
   "execution_count": 78,
   "outputs": [
    {
     "name": "stdout",
     "output_type": "stream",
     "text": [
      "   packID   price          time     latency\n",
      "0     NaN   73.60  1.633610e+09  846.667430\n",
      "1     NaN   24.94  1.633610e+09  846.706038\n",
      "2     NaN  195.53  1.633610e+09  846.499154\n",
      "3     NaN    5.07  1.633610e+09  846.536495\n",
      "4     NaN  508.05  1.633610e+09  846.597618\n",
      "5     NaN  967.34  1.633610e+09  906.495471\n",
      "6     NaN  321.32  1.633610e+09  906.372839\n",
      "7     NaN  105.18  1.633610e+09  906.458289\n",
      "8     NaN   80.69  1.633610e+09  906.502990\n",
      "9     NaN   58.64  1.633610e+09  714.526537\n",
      "       packID          price          time      latency\n",
      "count     0.0    1075.000000  1.075000e+03  1075.000000\n",
      "mean      NaN    1381.128977  1.633610e+09   460.794717\n",
      "std       NaN   13947.413774  2.714120e+02   271.331601\n",
      "min       NaN       0.010000  1.633609e+09     2.917311\n",
      "25%       NaN      37.725000  1.633610e+09   224.740581\n",
      "50%       NaN     125.790000  1.633610e+09   462.584890\n",
      "75%       NaN     327.565000  1.633610e+09   694.689689\n",
      "max       NaN  281627.380000  1.633610e+09   930.555982\n"
     ]
    }
   ],
   "source": [
    "# df = df.sort_values('t')\n",
    "print(df.head(10))\n",
    "print(df.describe())"
   ],
   "metadata": {
    "collapsed": false,
    "pycharm": {
     "name": "#%%\n"
    }
   }
  },
  {
   "cell_type": "code",
   "execution_count": 79,
   "outputs": [
    {
     "data": {
      "text/plain": "[<matplotlib.lines.Line2D at 0x119d95a60>]"
     },
     "execution_count": 79,
     "metadata": {},
     "output_type": "execute_result"
    },
    {
     "data": {
      "text/plain": "<Figure size 432x288 with 1 Axes>",
      "image/png": "[encoded data removed]"
     },
     "metadata": {
      "needs_background": "light"
     },
     "output_type": "display_data"
    }
   ],
   "source": [
    "plt.plot(df['time'], df['latency'])"
   ],
   "metadata": {
    "collapsed": false,
    "pycharm": {
     "name": "#%%\n"
    }
   }
  },
  {
   "cell_type": "code",
   "execution_count": 79,
   "outputs": [],
   "source": [],
   "metadata": {
    "collapsed": false,
    "pycharm": {
     "name": "#%%\n"
    }
   }
  }
 ],
 "metadata": {
  "kernelspec": {
   "display_name": "Python 3",
   "language": "python",
   "name": "python3"
  },
  "language_info": {
   "codemirror_mode": {
    "name": "ipython",
    "version": 2
   },
   "file_extension": ".py",
   "mimetype": "text/x-python",
   "name": "python",
   "nbconvert_exporter": "python",
   "pygments_lexer": "ipython2",
   "version": "2.7.6"
  }
 },
 "nbformat": 4,
 "nbformat_minor": 0
}